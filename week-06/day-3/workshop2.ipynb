{
 "cells": [
  {
   "cell_type": "code",
   "execution_count": 2,
   "metadata": {},
   "outputs": [],
   "source": [
    "import pandas as pd\n",
    "import numpy as np\n",
    "import matplotlib\n",
    "from matplotlib import pyplot as plt"
   ]
  },
  {
   "cell_type": "code",
   "execution_count": 17,
   "metadata": {},
   "outputs": [
    {
     "name": "stdout",
     "output_type": "stream",
     "text": [
      "<class 'pandas.core.frame.DataFrame'>\n",
      "RangeIndex: 132427 entries, 0 to 132426\n",
      "Data columns (total 22 columns):\n",
      "Trip ID                              132427 non-null int64\n",
      "Duration                             132427 non-null int64\n",
      "Start Time                           132427 non-null object\n",
      "End Time                             132427 non-null object\n",
      "Starting Station ID                  132408 non-null float64\n",
      "Starting Station Latitude            132379 non-null float64\n",
      "Starting Station Longitude           132379 non-null float64\n",
      "Ending Station ID                    132331 non-null float64\n",
      "Ending Station Latitude              131376 non-null float64\n",
      "Ending Station Longitude             131376 non-null float64\n",
      "Bike ID                              132417 non-null float64\n",
      "Plan Duration                        131661 non-null float64\n",
      "Trip Route Category                  132427 non-null object\n",
      "Passholder Type                      132427 non-null object\n",
      "Starting Lat-Long                    98622 non-null object\n",
      "Ending Lat-Long                      131376 non-null object\n",
      "Neighborhood Councils (Certified)    98590 non-null float64\n",
      "Council Districts                    98590 non-null float64\n",
      "Zip Codes                            98590 non-null float64\n",
      "LA Specific Plans                    15837 non-null float64\n",
      "Precinct Boundaries                  131328 non-null float64\n",
      "Census Tracts                        131328 non-null float64\n",
      "dtypes: float64(14), int64(2), object(6)\n",
      "memory usage: 19.2+ MB\n"
     ]
    }
   ],
   "source": [
    "bike = pd.read_csv('metrobike.csv', index_col = None)\n",
    "bike.info()"
   ]
  },
  {
   "cell_type": "code",
   "execution_count": 78,
   "metadata": {},
   "outputs": [],
   "source": [
    "# bike['Trip ID'].groupby(bike['Starting Station ID']).count()"
   ]
  },
  {
   "cell_type": "code",
   "execution_count": 12,
   "metadata": {},
   "outputs": [],
   "source": [
    "# bike['Trip ID'].groupby(bike['Ending Station ID']).count()"
   ]
  },
  {
   "cell_type": "code",
   "execution_count": 52,
   "metadata": {},
   "outputs": [
    {
     "name": "stdout",
     "output_type": "stream",
     "text": [
      "764\n",
      "68\n",
      "68\n"
     ]
    }
   ],
   "source": [
    "print(len(bike['Bike ID'].unique()))\n",
    "print(len(bike['Starting Station ID'].unique()))\n",
    "print(len(bike['Ending Station ID'].unique()))"
   ]
  },
  {
   "cell_type": "code",
   "execution_count": 42,
   "metadata": {},
   "outputs": [],
   "source": [
    "x = sorted(bike['Passholder Type'].unique())\n",
    "y = bike['Trip ID'].groupby(bike['Passholder Type']).count()"
   ]
  },
  {
   "cell_type": "code",
   "execution_count": 49,
   "metadata": {},
   "outputs": [
    {
     "data": {
      "image/png": "[encoded data removed]",
      "text/plain": [
       "<Figure size 432x288 with 1 Axes>"
      ]
     },
     "metadata": {
      "needs_background": "light"
     },
     "output_type": "display_data"
    }
   ],
   "source": [
    "plt.bar(x, y, width = 0.6)\n",
    "plt.title('The Number of Uses on Different Pass')\n",
    "for k, z in enumerate(y):\n",
    "    plt.text(k, z + 4000, '%s'%z, ha = 'center', va = 'top')\n",
    "plt.show()"
   ]
  },
  {
   "cell_type": "code",
   "execution_count": 15,
   "metadata": {},
   "outputs": [
    {
     "data": {
      "text/plain": [
       "Trip Route Category\n",
       "One Way       119629\n",
       "Round Trip     12798\n",
       "Name: Trip ID, dtype: int64"
      ]
     },
     "execution_count": 15,
     "metadata": {},
     "output_type": "execute_result"
    }
   ],
   "source": [
    "bike['Trip ID'].groupby(bike['Trip Route Category']).count()"
   ]
  },
  {
   "cell_type": "code",
   "execution_count": 18,
   "metadata": {},
   "outputs": [
    {
     "data": {
      "text/plain": [
       "Trip Route Category\n",
       "One Way       1371.794130\n",
       "Round Trip    3267.974684\n",
       "Name: Duration, dtype: float64"
      ]
     },
     "execution_count": 18,
     "metadata": {},
     "output_type": "execute_result"
    }
   ],
   "source": [
    "bike['Duration'].groupby(bike['Trip Route Category']).mean()"
   ]
  },
  {
   "cell_type": "code",
   "execution_count": 19,
   "metadata": {},
   "outputs": [
    {
     "data": {
      "text/plain": [
       "Passholder Type\n",
       "Flex Pass       1192.655889\n",
       "Monthly Pass     858.766978\n",
       "Staff Annual    2706.753927\n",
       "Walk-up         3000.414656\n",
       "Name: Duration, dtype: float64"
      ]
     },
     "execution_count": 19,
     "metadata": {},
     "output_type": "execute_result"
    }
   ],
   "source": [
    "bike['Duration'].groupby(bike['Passholder Type']).mean()"
   ]
  },
  {
   "cell_type": "code",
   "execution_count": 32,
   "metadata": {},
   "outputs": [],
   "source": [
    "x = sorted(bike['Passholder Type'].unique())\n",
    "y = round(bike['Duration'].groupby(bike['Passholder Type']).mean(),2)"
   ]
  },
  {
   "cell_type": "code",
   "execution_count": 41,
   "metadata": {},
   "outputs": [
    {
     "data": {
      "image/png": "[encoded data removed]",
      "text/plain": [
       "<Figure size 432x288 with 1 Axes>"
      ]
     },
     "metadata": {
      "needs_background": "light"
     },
     "output_type": "display_data"
    }
   ],
   "source": [
    "plt.bar(x, y, width = 0.6)\n",
    "plt.title('The Duration on Different Pass (in second)')\n",
    "for k, z in enumerate(y):\n",
    "    plt.text(k, z + 150, '%s'%z, ha = 'center', va = 'top')\n",
    "plt.show()"
   ]
  },
  {
   "cell_type": "code",
   "execution_count": 53,
   "metadata": {},
   "outputs": [],
   "source": [
    "def get_year(value):\n",
    "    return value.split('-')[0]\n",
    "def get_month(value):\n",
    "    return value.split('-')[1]\n",
    "bike['year'] = bike['Start Time'].apply(get_year)\n",
    "bike['month'] = bike['Start Time'].apply(get_month)"
   ]
  },
  {
   "cell_type": "code",
   "execution_count": 63,
   "metadata": {},
   "outputs": [
    {
     "name": "stdout",
     "output_type": "stream",
     "text": [
      "year\n",
      "2016    98641\n",
      "2017    33786\n",
      "Name: Trip ID, dtype: int64\n",
      "16440.166666666668\n",
      "11262.0\n"
     ]
    }
   ],
   "source": [
    "print(bike['Trip ID'].groupby(bike['year']).count())\n",
    "print(np.mean(bike[bike['year'] == '2016']['Trip ID'].groupby(bike['month']).count()))\n",
    "print(np.mean(bike[bike['year'] == '2017']['Trip ID'].groupby(bike['month']).count()))"
   ]
  },
  {
   "cell_type": "code",
   "execution_count": 62,
   "metadata": {},
   "outputs": [
    {
     "data": {
      "image/png": "[encoded data removed]",
      "text/plain": [
       "<Figure size 432x288 with 1 Axes>"
      ]
     },
     "metadata": {},
     "output_type": "display_data"
    }
   ],
   "source": [
    "x = bike['Trip ID'].groupby(bike['year']).count()\n",
    "labels = bike['year'].unique()\n",
    "explode = (0,0.1)\n",
    "fig1, ax1 = plt.subplots()\n",
    "ax1.pie(x, explode=explode, labels=labels, autopct='%1.1f%%',\n",
    "        shadow=True, startangle=90)\n",
    "ax1.axis('equal')  \n",
    "ax1.set_title('The Percentage of Uses')\n",
    "\n",
    "plt.show()"
   ]
  },
  {
   "cell_type": "code",
   "execution_count": 74,
   "metadata": {},
   "outputs": [
    {
     "data": {
      "image/png": "[encoded data removed]",
      "text/plain": [
       "<Figure size 432x288 with 1 Axes>"
      ]
     },
     "metadata": {
      "needs_background": "light"
     },
     "output_type": "display_data"
    }
   ],
   "source": [
    "x = ['2016', '2017']\n",
    "y = [round(np.mean(bike[bike['year'] == '2016']['Trip ID'].groupby(bike['month']).count()),2), \n",
    "     round(np.mean(bike[bike['year'] == '2017']['Trip ID'].groupby(bike['month']).count()),3)]\n",
    "plt.bar(x, y, width = 0.4)\n",
    "plt.title('The Monthly Average Uses in Years')\n",
    "for k, z in enumerate(y):\n",
    "    plt.text(k, z + 750, '%s'%z, ha = 'center', va = 'top')\n",
    "plt.show()"
   ]
  },
  {
   "cell_type": "code",
   "execution_count": 75,
   "metadata": {},
   "outputs": [
    {
     "data": {
      "text/plain": [
       "month  Passholder Type\n",
       "07     Flex Pass           1668\n",
       "       Monthly Pass        9362\n",
       "       Walk-up              400\n",
       "08     Flex Pass           1591\n",
       "       Monthly Pass       13185\n",
       "       Walk-up             9372\n",
       "09     Flex Pass           1181\n",
       "       Monthly Pass       10645\n",
       "       Walk-up             8035\n",
       "10     Flex Pass           1266\n",
       "       Monthly Pass       10742\n",
       "       Staff Annual         157\n",
       "       Walk-up             5994\n",
       "11     Flex Pass            901\n",
       "       Monthly Pass        9379\n",
       "       Staff Annual          93\n",
       "       Walk-up             4057\n",
       "12     Flex Pass            627\n",
       "       Monthly Pass        6960\n",
       "       Staff Annual         132\n",
       "       Walk-up             2894\n",
       "Name: Trip ID, dtype: int64"
      ]
     },
     "execution_count": 75,
     "metadata": {},
     "output_type": "execute_result"
    }
   ],
   "source": [
    "bike[bike['year'] == '2016']['Trip ID'].groupby([bike['month'], bike['Passholder Type']]).count()"
   ]
  },
  {
   "cell_type": "code",
   "execution_count": 76,
   "metadata": {},
   "outputs": [
    {
     "data": {
      "text/plain": [
       "month  Passholder Type\n",
       "01     Flex Pass           670\n",
       "       Monthly Pass       6401\n",
       "       Walk-up            3276\n",
       "02     Flex Pass           599\n",
       "       Monthly Pass       6155\n",
       "       Walk-up            2779\n",
       "03     Flex Pass          1023\n",
       "       Monthly Pass       8451\n",
       "       Walk-up            4432\n",
       "Name: Trip ID, dtype: int64"
      ]
     },
     "execution_count": 76,
     "metadata": {},
     "output_type": "execute_result"
    }
   ],
   "source": [
    "bike[bike['year'] == '2017']['Trip ID'].groupby([bike['month'], bike['Passholder Type']]).count()"
   ]
  },
  {
   "cell_type": "code",
   "execution_count": null,
   "metadata": {},
   "outputs": [],
   "source": []
  }
 ],
 "metadata": {
  "kernelspec": {
   "display_name": "Python 3",
   "language": "python",
   "name": "python3"
  },
  "language_info": {
   "codemirror_mode": {
    "name": "ipython",
    "version": 3
   },
   "file_extension": ".py",
   "mimetype": "text/x-python",
   "name": "python",
   "nbconvert_exporter": "python",
   "pygments_lexer": "ipython3",
   "version": "3.7.3"
  }
 },
 "nbformat": 4,
 "nbformat_minor": 2
}
